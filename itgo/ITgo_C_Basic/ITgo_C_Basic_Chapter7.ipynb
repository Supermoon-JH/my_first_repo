{
 "cells": [
  {
   "cell_type": "markdown",
   "metadata": {},
   "source": [
    "## C언어 7강  \n",
    "\n",
    "**포인터**  \n",
    "포인터변수(주소 변수): 메모리의 주소로 기억되는 값을 가지는 변수  \n",
    "포인터 변수란 그 변수에 팔이 달려 메모리의 어떤 위치를 가리키고 있는 것으로 연상  \n",
    "\n",
    "**포인터 변수의 선언**  \n",
    "자료형 * 포인터변수이름;  \n",
    "char \\*p;  \n",
    "p = &A;   &nbsp;&nbsp;&nbsp;&nbsp;// 변수 A의 시작 주소를 포인터 변수 p에 넣는다  \n",
    "\n",
    "**배열과 포인터**  \n",
    "문자형 포인터변수   \n",
    "char Arr[] = “Hi!\";     \n",
    "// Arr ‘H’  \n",
    "&nbsp;&nbsp;&nbsp;&nbsp;&nbsp;&nbsp;&nbsp;&nbsp;&nbsp;'i’  \n",
    "&nbsp;&nbsp;&nbsp;&nbsp;&nbsp;&nbsp;&nbsp;&nbsp;&nbsp;‘!’  \n",
    "&nbsp;&nbsp;&nbsp;&nbsp;&nbsp;&nbsp;&nbsp;&nbsp;&nbsp;'\\0’  \n",
    "p = Arr; &nbsp;&nbsp;&nbsp; # 1차원 배열의 이름: 시작 주소  \n",
    "\n",
    "정수형 포인터변수  \n",
    "int, short, long \\*p;  \n",
    "\n",
    "실수형 포인터변수: 포인터변수가 움직일 때마다 4byte씩 증감  \n",
    "\n",
    "**다중 포인터**  \n",
    "이중 포인터  \n",
    "자료형 ** 이중포인터변수이름   \n",
    " \n",
    "삼중 포인터  \n",
    "자료형 *** 삼중포인터변수이름  \n"
   ]
  },
  {
   "cell_type": "code",
   "execution_count": null,
   "metadata": {},
   "outputs": [],
   "source": []
  },
  {
   "cell_type": "code",
   "execution_count": null,
   "metadata": {},
   "outputs": [],
   "source": []
  }
 ],
 "metadata": {
  "kernelspec": {
   "display_name": "Python 3",
   "language": "python",
   "name": "python3"
  },
  "language_info": {
   "codemirror_mode": {
    "name": "ipython",
    "version": 3
   },
   "file_extension": ".py",
   "mimetype": "text/x-python",
   "name": "python",
   "nbconvert_exporter": "python",
   "pygments_lexer": "ipython3",
   "version": "3.8.5"
  }
 },
 "nbformat": 4,
 "nbformat_minor": 4
}
