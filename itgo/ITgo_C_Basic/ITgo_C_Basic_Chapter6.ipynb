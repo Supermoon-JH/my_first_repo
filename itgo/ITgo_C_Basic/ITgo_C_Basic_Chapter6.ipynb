{
 "cells": [
  {
   "cell_type": "markdown",
   "metadata": {},
   "source": [
    "## 배열(Array)\n",
    "\n",
    "**배열의 개념**: 변수는 주 기억장치의 임의의 위치로부터 한 개의 기억장소 이름임에 반해 배열은 기억장치의 임의의 위치로부터 같은 자료형의 여러 개의 기억장소의 이름이며, 한 배열 이름으로 여러 개의 값을 가질 수 있다.   \n",
    "\n",
    "**1차원 배열**  \n",
    "자료형 배열이름 [배열요소의 개수]   \n",
    "자료형: C언어에서 사용가능한 모든 자료형  \n",
    "배열이름: identifier를 만드는 규칙에 위배되지 않게     \n",
    "배열 요소의 개수: 요소의 개수만큼 숫자를 써주며, 프로그램상에서는 요소의 수보다 1작은 수까지의 첨자가 사용(첨자를 0부터 사용)  \n",
    "\n",
    "1)\t선언시에 초기화하는 방법1  \n",
    "int exArr[4] = {10, 20, 30, 40};  \n",
    "char exArr2[3] = {‘x’, ‘y’, ‘z’};  \n",
    "2)\t선언시에 초기화하는 방법2  \n",
    "int exArr[ ] = {10, 20, 30, 40};  \n",
    "char exArr2[ ] = {‘x’, ‘y’, ‘z’};  \n",
    "\n",
    "**2차원 배열**: 행과 열의 양쪽방향으로 요소가 늘어나는 배열로 첨자가 두개로 표시  \n",
    "자료형 배열이름 [행요소의 개수][열요소의 개수]  \n",
    "행(줄=row)요소의 개수  \n",
    "열(칸=column)요소의 개수  \n",
    "00 01 02 03  \n",
    "10 11 12 13  \n",
    "20 21 22 23     \n",
    "30 31 32 33  \n",
    " \n",
    "(1)\t선언시에 초기화 하는 방법1  \n",
    "int Dim2[2][3] = {10, 20, 30, 40, 50, 60};  \n",
    "char Dim2Ch[2][2] = {‘A’, ‘B’, ‘C’, ‘D’};  \n",
    "(2)\t선언시에 초기화하는 방법2  \n",
    "int Dim2[2][3] = {{10, 20, 30}, {40, 50, 60}};  \n",
    "char Dim2Ch[2][2] = {{‘A’, ‘B’}, {‘C’, ‘D’}};  \n",
    "\n",
    "**2차원 배열의 메모리 할당**: C언어는 행우선의 언어  \n",
    "행우선(row major): 한 행의 요소들을 모두 할당하고 그 다음 행의 요소들을 할당한다  \n",
    "\n",
    "**3차원 배열**: 면의 개수만큼 숫자를 써 줌  \n",
    "자료형 배열이름 [면의 개수][행요소의 개수][열요소의 개수]  \n"
   ]
  },
  {
   "cell_type": "code",
   "execution_count": null,
   "metadata": {},
   "outputs": [],
   "source": []
  }
 ],
 "metadata": {
  "kernelspec": {
   "display_name": "Python 3",
   "language": "python",
   "name": "python3"
  },
  "language_info": {
   "codemirror_mode": {
    "name": "ipython",
    "version": 3
   },
   "file_extension": ".py",
   "mimetype": "text/x-python",
   "name": "python",
   "nbconvert_exporter": "python",
   "pygments_lexer": "ipython3",
   "version": "3.8.5"
  }
 },
 "nbformat": 4,
 "nbformat_minor": 4
}
