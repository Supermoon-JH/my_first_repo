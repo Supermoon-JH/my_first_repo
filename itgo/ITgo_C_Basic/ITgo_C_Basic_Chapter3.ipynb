{
 "cells": [
  {
   "cell_type": "markdown",
   "metadata": {},
   "source": [
    "## 연산자"
   ]
  },
  {
   "cell_type": "markdown",
   "metadata": {},
   "source": [
    "**산술 연산자**  \n",
    "+, -, *, /, %(나머지)   \n",
    "\n",
    "**관계 연산자**: True: 1, False: 0(0이 아닌 모든 것은 참)  \n",
    "==: 같다  \n",
    "!=: 같지 않다  \n",
    "\\>: 크다  \n",
    "\\>=: 크거나 같다  \n",
    "<: 작다  \n",
    "<=: 작거나 같다  \n"
   ]
  },
  {
   "cell_type": "markdown",
   "metadata": {},
   "source": [
    "\\#include<stdio.h>  \n",
    "void main(){  \n",
    "int a, b, c;  \n",
    "a = 10;  \n",
    "b = 5;  \n",
    "c = a > b;  \n",
    "printf(“%d\\n”, c);  \n",
    "c = a < b;  \n",
    "printf(“%d\\n”, c);  \n",
    "c = a == b;  \n",
    "printf(“%d\\n”, c);  \n",
    "c = a != b;  \n",
    "printf(“%d\\n”, c);  \n",
    "}  \n",
    "\n",
    "1<br>0<br>0<br>1<br>    \n",
    " \n"
   ]
  },
  {
   "cell_type": "markdown",
   "metadata": {},
   "source": [
    "**논리 연산자**(NOT > AND > OR)  \n",
    "AND 연산: &&(1 && 1만 참)  \n",
    "OR 연산: ||(0 || 0만 거짓)  \n",
    "NOT 연산: !  \n",
    "\n",
    "**비트 연산자**: 비트를 이동시키는 연산자  \n",
    "\\>>: 오른쪽으로 이동(5 >> 2: 5의 이진수표현에서 오른쪽으로 2칸 쉬프트)  \n",
    "<<: 왼쪽으로 이동  \n",
    "\n",
    "**기타 연산자**   \n",
    "1.증감 연산자: 어떤 변수에 대해 1증가하거나 1감소  \n",
    "전위형(우선순위 높음): ++a(a = a + 1, a += 1), --a(a = a – 1, a -= 1)  \n",
    "후위형(우선순위 낮음): a++, a—  \n",
    "\n",
    "2.산술적 대입 연산자(Arithmetic Shorthand Operator)  \n",
    "+=, -=, \\*=, /=, &=(x += 10: x = x + 10)  \n",
    "\n",
    "3.cast(자료형 변환) 연산자: 수식의 연산에서 묵시적으로 결과의 자료형이 바뀌는 경우가 생기는데 cast연산자를 자료형을 강제적으로, 명시적으로 바꾸어주는 연산자를 의미  \n",
    "(자료형) 변수, 상수, 수식; (float)(10);  \n",
    "\n",
    "4.삼항 연산자: 항이 3개인 연산자  \n",
    "조건(참 or 거짓) ? 수식1(참) : 수식2(거짓)  \n"
   ]
  },
  {
   "cell_type": "code",
   "execution_count": null,
   "metadata": {},
   "outputs": [],
   "source": []
  }
 ],
 "metadata": {
  "kernelspec": {
   "display_name": "Python 3",
   "language": "python",
   "name": "python3"
  },
  "language_info": {
   "codemirror_mode": {
    "name": "ipython",
    "version": 3
   },
   "file_extension": ".py",
   "mimetype": "text/x-python",
   "name": "python",
   "nbconvert_exporter": "python",
   "pygments_lexer": "ipython3",
   "version": "3.8.5"
  }
 },
 "nbformat": 4,
 "nbformat_minor": 4
}
