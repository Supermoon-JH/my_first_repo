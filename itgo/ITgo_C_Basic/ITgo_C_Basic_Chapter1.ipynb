{
 "cells": [
  {
   "cell_type": "markdown",
   "metadata": {},
   "source": [
    "**C언어의 역사**   \n",
    "C언어의 기원은 구조적 프로그래밍의 근간인 Algol60(1960)에서 근원  \n",
    "  \n",
    "**C언어의 특징**  \n",
    "(1)\tC언어는 문장이 간결하다   \n",
    "(2)\t프로그램의 영문자 대문자와 소문자는 서로 다르게 구분(사용자 정의)  \n",
    "(3)\t함수들의 집합체로 구성되어있다: C언어는 주 프로그램도 main()이라는 함수 내에 정의. 기본적인 입.출력문 조차도 함수로 구성  \n",
    "(4)\t문법에 매우 다양하고 풍부한 연산자들과 자료형이 존재  \n",
    "(5)\t메모리의 주소를 자유롭게 조작가능  \n",
    "\n",
    "**프로그래밍의 기본요소**  \n",
    "(1)\t변수(variable): 절차적 프로그래밍 언어에서 프로그램의 값을 움직이는 주체적 역할을 함  \n",
    "(2)\t상수(constant): 항상 똑 같은 값을 갖는 수, 숫자, 문자  \n",
    "(3)\t데이터 타입(자료형, data type)과 선언  \n",
    "(4)\t예약어(reserved word)와 식별자(사용자 정의어, identifier)  \n",
    "(5)\t주석문(comment)  \n",
    "(6)\t단락 맞추기(indentation)  \n",
    "\n",
    "**C언어의 자료형**  \n",
    "기본형: 문자형, 정수형, 실수형, void형  \n",
    "기타: 배열, 구조체, 공용체, 열거형, 포인터형  \n",
    "\n",
    "**문자형**  \n",
    "문자 상수(Character Constant): 문자 한 개를 의미, 홑 따옴표(Single quotation mark)안에 표시  \n",
    "문자열 상수(String Constant): 문자 여러 개를 의미, 쌍 따옴표(Double quotation mark)안에 표시  \n",
    "문자형 변수(Character Variable): 문자형 상수 값이 저장되는 변수, 1Byte 기억공간을 차지, 범위: -128 ~ +127  \n",
    "\n",
    "**정수형**  \n",
    "정수 상수는 소수점이 없는 양수나 음수를 의미 \n",
    "정수형 변수(Integer Variable): 정수형 상수의 값이 기억되는 메모리 위치의 이름(int, unsigned int, short, unsigned short, long, unsigned   long)  \n",
    "\n",
    "**실수형**  \n",
    "부동 소수점, 실수형 상수: 소수점이 있는 수(float, double)  \n",
    "\n",
    "**열거형**   \n",
    "열거형 상수는 사용자가 정의하여 사용하는 상수, 정수와 동일하게 취급, 0부터 값이 붙여짐, 4Byte 기억공간의 크기를 가짐(enum)    \n",
    "\n",
    "**변수명을 만드는 규칙**  \n",
    "1.\t영문자, 숫자, 밑줄만 가능  \n",
    "2.\t영문자나 밑줄로 시작할 수 있고 숫자로 시작 X   \n",
    "3.\t대소문자를 구분  \n",
    "4.\t공백을 허용하지 않음  \n",
    "5.\t?, !, #은 변수명에 사용 X  \n",
    "6.\t예약어는 변수명으로 사용 X  \n"
   ]
  },
  {
   "cell_type": "code",
   "execution_count": null,
   "metadata": {},
   "outputs": [],
   "source": []
  }
 ],
 "metadata": {
  "kernelspec": {
   "display_name": "Python 3",
   "language": "python",
   "name": "python3"
  },
  "language_info": {
   "codemirror_mode": {
    "name": "ipython",
    "version": 3
   },
   "file_extension": ".py",
   "mimetype": "text/x-python",
   "name": "python",
   "nbconvert_exporter": "python",
   "pygments_lexer": "ipython3",
   "version": "3.8.5"
  }
 },
 "nbformat": 4,
 "nbformat_minor": 4
}
