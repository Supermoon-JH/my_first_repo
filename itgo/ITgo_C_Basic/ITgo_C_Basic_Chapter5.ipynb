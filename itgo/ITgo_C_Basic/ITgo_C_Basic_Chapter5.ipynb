{
 "cells": [
  {
   "cell_type": "markdown",
   "metadata": {},
   "source": [
    "## 함수\n",
    "\n",
    "**함수의 정의**: 미리 만들어 놓은 작은 프로그램으로 다른 함수에 의해서 호출(call)을 받아야만 실행될 수 있는 프로그램  \n",
    "미리 정의된 함수(Predefined function)  \n",
    "사용자가 정의해서 쓰는 함수(User defined function): main()함수보다 먼저 정의  \n",
    "\n",
    "**함수의 구조**  \n",
    "(함수의 자료형) (함수의 이름) (함수의 인수들){  \n",
    "함수의 수행문들…  \n",
    "}<br>함수의 자료형(function type)    \n",
    "함수의 이름(function name)  \n",
    "함수의 인수들(parameter list)  \n",
    "\n",
    "\\#include<stdio.h>  \n",
    "&nbsp;&nbsp;&nbsp;&nbsp;&nbsp;&nbsp;int func(){&nbsp;&nbsp;&nbsp;&nbsp;&nbsp;&nbsp;&nbsp;&nbsp;&nbsp;&nbsp;# call  \n",
    "&nbsp;&nbsp;&nbsp;&nbsp;&nbsp;&nbsp;…(함수 수행문들)  \n",
    "\n",
    "\treturn( B );\n",
    "\t}\n",
    "\tvoid main(){                 # return\n",
    "\t\t…\n",
    "\ta = fun();\n",
    "\t\t…\n",
    "\t}\n",
    "\n",
    "**함수의 유형**: 리턴 값과 매개변수를 기준으로 크게 4개로 구분  \n",
    "실매개변수(부름)  \n",
    "형식매개변수(불림)  \n",
    "\n",
    "**함수의 매개변수 전달 기법**(method of passing arguments)  \n",
    "호출하는 쪽(caller)에서 매개변수를 전달할 때, 값을 넘기면 call by value, 매개변수들의 메모리 시작 주소를 넘기면, call by reference(call by address, call by location)  \n"
   ]
  },
  {
   "cell_type": "code",
   "execution_count": null,
   "metadata": {},
   "outputs": [],
   "source": []
  }
 ],
 "metadata": {
  "kernelspec": {
   "display_name": "Python 3",
   "language": "python",
   "name": "python3"
  },
  "language_info": {
   "codemirror_mode": {
    "name": "ipython",
    "version": 3
   },
   "file_extension": ".py",
   "mimetype": "text/x-python",
   "name": "python",
   "nbconvert_exporter": "python",
   "pygments_lexer": "ipython3",
   "version": "3.8.5"
  }
 },
 "nbformat": 4,
 "nbformat_minor": 4
}
