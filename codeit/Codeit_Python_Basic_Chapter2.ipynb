{
 "cells": [
  {
   "cell_type": "markdown",
   "metadata": {},
   "source": [
    "## 자료형"
   ]
  },
  {
   "cell_type": "markdown",
   "metadata": {},
   "source": [
    "**숫자형**\n",
    "\n",
    "나머지  \n",
    "print(7 % 3)  \n",
    "1  \n",
    "거듭제곱  \n",
    "print(2 ** 3)  \n",
    "8  \n",
    "\\# 두 수 중에 하나라도 소수형이면 소수형으로 출력(단, 나눗셈은 항상 소수형으로 출력)   \n",
    "\n",
    "print(2 + 3 * 2)  \n",
    "8  \n",
    "\n",
    "\\# floor division(버림 나눗셈)  \n",
    "print(7 // 2)  \n",
    "3  \n",
    "\\# round(반올림)  \n",
    "print(round(3.1415926535, 2))   # 소수점 둘째자리까지 반올림  \n",
    "3.14  \n"
   ]
  },
  {
   "cell_type": "markdown",
   "metadata": {},
   "source": [
    "**문자열(String)**\n",
    "\n",
    "‘코드잇’  \n",
    "“코드잇”  \n",
    "\n",
    "문자열 연결  \n",
    "“Hello” * 3 -> “HelloHelloHello”  \n",
    "\n",
    "print(“I’m excited to learn Python!”)  \n",
    "print(“I\\’m \\”excited\\” to learn Python!”)  \n",
    "I'm “excited” to learn Python!”  \n",
    "\n",
    "print(“Hello” * 3)  \n",
    "HelloHelloHello  \n",
    "\n",
    "print(“3” + “5”)  \n",
    "35  \n"
   ]
  },
  {
   "cell_type": "markdown",
   "metadata": {},
   "source": [
    "**형변환**\n",
    "\n",
    "print(int(3.8))    # 정수화  \n",
    "3\n",
    "print(float(3))    # 소수화  \n",
    "3.0  \n",
    "print(int(“2”) + int(“5”))  \n",
    "7  \n",
    "print(float(“1.1”) + float(“2.5”))  \n",
    "3.6  \n",
    "print(str(2) + str(5))  \n",
    "25  \n",
    "\n",
    "age = 7  \n",
    "print(“제 나이는 “ + str(age) + “살입니다.”)  \n",
    "제 나이는 7살입니다.  \n"
   ]
  },
  {
   "cell_type": "markdown",
   "metadata": {},
   "source": [
    "**format을 이용한 문자열 포맷팅**\n",
    "\n",
    "year = 2019  \n",
    "month = 10  \n",
    "day = 29  \n",
    "print(“오늘은 {}년 {}월 {}일입니다.” .format(year, month, day))  \n",
    "오늘은 2019년 10월 29일입니다.  \n",
    "\n",
    "date_string = “오늘은 {}년 {}월 {}일입니다.”  \n",
    "print(date_string.format(year, month, day))  \n",
    "\n",
    "print(“저는 {1}, {0}, {2}를 좋아합니다!”.format(“박지성”, “유재석”, “빌 게이츠”))  \n",
    "저는 유재석, 박지성, 빌 게이츠를 좋아합니다!  \n",
    "num_1 = 1  \n",
    "num_2 = 3  \n",
    "print(“{0} 나누기 {1}은 {2:.2f}입니다.”.format(num_1, num_2, num_1/num_2))      #소수점 둘째자리  \n",
    "1 나누기 3은 0.33입니다.  \n"
   ]
  },
  {
   "cell_type": "markdown",
   "metadata": {},
   "source": [
    "**가장 오래된 방식(% 기호)**\n",
    "\n",
    "name = “최지웅”  \n",
    "age = 32  \n",
    "print(“제 이름은 %s이고 %d살입니다.” % (name, age))  \n",
    "제 이름은 최지웅이고 32살입니다.  \n"
   ]
  },
  {
   "cell_type": "markdown",
   "metadata": {},
   "source": [
    "**새로운 방식(f-string)**\n",
    "\n",
    "name = “최지웅”    \n",
    "age = 32    \n",
    "print(f”제 이름은 {name}이고 {age}살입니다.\")  \n",
    "제 이름은 최지웅이고 32살입니다.  \n"
   ]
  },
  {
   "cell_type": "markdown",
   "metadata": {},
   "source": [
    "**불 대수**\n",
    "\n",
    "불 대수의 값: 진리값(True, False)  \n",
    "연산: and, or, not  \n",
    "And연산: x와 y가 모두 참일 때만 x and y가 참  \n",
    "Or연산: x와 y 중 하나라도 참이면 x or y는 참  \n",
    "Not연산: True -> False, False -> True  \n"
   ]
  },
  {
   "cell_type": "markdown",
   "metadata": {},
   "source": [
    "**불린(Boolean)**\n",
    "\n",
    "print(True)  \n",
    "True  \n",
    "print(False)  \n",
    "False  \n",
    "print(2 > 1 and “Hello” == “Hello”)  \n",
    "True  \n",
    "print(not not True)  \n",
    "True  \n",
    "x = 3  \n",
    "print(x > 4 or not (x < 2 or x == 3))  \n",
    "False  \n"
   ]
  },
  {
   "cell_type": "markdown",
   "metadata": {},
   "source": [
    "**Type 함수**\n",
    "\n",
    "print(type(3))    # <class ‘int’>  \n",
    "print(type(3.0))  # <class ‘float’>  \n",
    "print(type(“3”))  # <class ‘str’>  \n",
    "print(type(“True”)) # <class ‘str’>  \n",
    "print(type(True)) # <class ‘bool’>  \n",
    "\n",
    "def hello():  \n",
    "\tprint(“Hello world!”)  \n",
    "print(type(hello))   # <class ‘function’>  \n",
    "print(type(print))   # <class ‘builtin_function_or_method’>  \n"
   ]
  },
  {
   "cell_type": "code",
   "execution_count": null,
   "metadata": {},
   "outputs": [],
   "source": []
  }
 ],
 "metadata": {
  "kernelspec": {
   "display_name": "Python 3",
   "language": "python",
   "name": "python3"
  },
  "language_info": {
   "codemirror_mode": {
    "name": "ipython",
    "version": 3
   },
   "file_extension": ".py",
   "mimetype": "text/x-python",
   "name": "python",
   "nbconvert_exporter": "python",
   "pygments_lexer": "ipython3",
   "version": "3.8.5"
  }
 },
 "nbformat": 4,
 "nbformat_minor": 4
}
