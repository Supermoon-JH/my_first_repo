{
 "cells": [
  {
   "cell_type": "markdown",
   "metadata": {},
   "source": [
    "## 파이썬 응용"
   ]
  },
  {
   "cell_type": "markdown",
   "metadata": {},
   "source": [
    "**모듈**  \n",
    "import calculator as calc  \n",
    "print(calc.add(2, 5))  \n",
    "print(calc.multiply(3, 4))  \n",
    "\n",
    "from calculator import add, multiply  \n",
    "print(add(2, 5))  \n",
    "\n",
    "from calculator import *   # 권장 X  \n"
   ]
  },
  {
   "cell_type": "markdown",
   "metadata": {},
   "source": [
    "**standard library**  \n",
    "import math  \n",
    "import os  \n",
    "print(os.getlogin())      # 어떤 계정으로 로그인했는지  \n",
    "print(os.getcwd())       # 이 파일의 경로  \n",
    "\n",
    "**random 모듈**  \n",
    "randint 함수: 두 수 사이의 어떤 랜덤한 정수를 리턴하는 함수    \n",
    "uniform 함수: 두 수 사이의 랜덤한 소수를 리턴하는 함수   \n"
   ]
  },
  {
   "cell_type": "markdown",
   "metadata": {},
   "source": [
    "**datetime 모듈**\n",
    "pi_day = datetime.datetime(2020, 3, 14, 13, 6, 15)  \n",
    "print(pi_day)  \n",
    "print(type(pi_day))   \n",
    "2020-03-14 13:06:15  \n",
    "<class 'datetime.datetime'>  \n",
    "\n",
    "**오늘 날짜**  \n",
    "today = datetime.datetime.now()  \n",
    "print(today)  \n",
    "print(type(today))  \n",
    "2020-04-05 17:49:12.360266  \n",
    "<class 'datetime.datetime'>  \n"
   ]
  },
  {
   "cell_type": "markdown",
   "metadata": {},
   "source": [
    "**timedelta**  \n",
    "today = datetime.datetime.now()  \n",
    "pi_day = datetime.datetime(2020, 3, 14, 13, 6, 15)  \n",
    "print(today - pi_day)  \n",
    "print(type(today - pi_day))  \n",
    "22 days, 4:42:57.360266   \n",
    "<class 'datetime.timedelta'>  \n",
    "today = datetime.datetime.now()  \n",
    "my_timedelta = datetime.timedelta(days=5, hours=3, minutes=10, seconds=50)  \n",
    "\n",
    "print(today)  \n",
    "print(today + my_timedelta)  \n",
    "2020-04-05 17:54:24.221660  \n",
    "2020-04-10 21:05:14.221660  \n",
    "\n",
    "**datetime 해부하기**  \n",
    "today = datetime.datetime.now()  \n",
    "\n",
    "print(today)  \n",
    "print(today.year)  # 연도  \n",
    "print(today.month)  # 월  \n",
    "print(today.day)  # 일  \n",
    "print(today.hour)  # 시   \n",
    "print(today.minute)  # 분  \n",
    "print(today.second)  # 초  \n",
    "print(today.microsecond)  # 마이크로초  \n",
    "2020-04-05 17:59:21.709817  \n",
    "2020  \n",
    "4 \n",
    "5  \n",
    "17  \n",
    "59  \n",
    "21  \n",
    "709817  \n",
    "\n",
    "**datetime 포맷팅**  \n",
    "today = datetime.datetime.now()  \n",
    "\n",
    "print(today)  \n",
    "print(today.strftime(\"%A, %B %dth %Y\"))  \n",
    "2020-04-05 18:09:55.233501  \n",
    "Sunday, April 05th 2020  \n",
    "\n"
   ]
  },
  {
   "cell_type": "markdown",
   "metadata": {},
   "source": [
    "**input 함수**  \n",
    "name = input(“이름을 입력하세요: “)   # 항상 문자열  \n",
    "print(name)  \n",
    "x = int(input(“숫자를 입력하세요: “))  \n",
    "print(x + 5)  \n"
   ]
  },
  {
   "cell_type": "markdown",
   "metadata": {},
   "source": [
    "**파일 읽기**  "
   ]
  },
  {
   "cell_type": "code",
   "execution_count": 2,
   "metadata": {},
   "outputs": [
    {
     "ename": "FileNotFoundError",
     "evalue": "[Errno 2] No such file or directory: 'chicken.txt'",
     "output_type": "error",
     "traceback": [
      "\u001b[1;31m---------------------------------------------------------------------------\u001b[0m",
      "\u001b[1;31mFileNotFoundError\u001b[0m                         Traceback (most recent call last)",
      "\u001b[1;32m<ipython-input-2-0310a9a7fd5b>\u001b[0m in \u001b[0;36m<module>\u001b[1;34m\u001b[0m\n\u001b[1;32m----> 1\u001b[1;33m \u001b[1;32mwith\u001b[0m \u001b[0mopen\u001b[0m\u001b[1;33m(\u001b[0m\u001b[1;34m'chicken.txt'\u001b[0m\u001b[1;33m,\u001b[0m \u001b[1;34m'r'\u001b[0m\u001b[1;33m)\u001b[0m \u001b[1;32mas\u001b[0m \u001b[0mf\u001b[0m\u001b[1;33m:\u001b[0m     \u001b[1;31m# r: read\u001b[0m\u001b[1;33m\u001b[0m\u001b[1;33m\u001b[0m\u001b[0m\n\u001b[0m\u001b[0;32m      2\u001b[0m     \u001b[1;32mfor\u001b[0m \u001b[0mline\u001b[0m \u001b[1;32min\u001b[0m \u001b[0mf\u001b[0m\u001b[1;33m:\u001b[0m\u001b[1;33m\u001b[0m\u001b[1;33m\u001b[0m\u001b[0m\n\u001b[0;32m      3\u001b[0m         \u001b[0mprint\u001b[0m\u001b[1;33m(\u001b[0m\u001b[0mline\u001b[0m\u001b[1;33m)\u001b[0m     \u001b[1;31m# 모든 줄 출력\u001b[0m\u001b[1;33m\u001b[0m\u001b[1;33m\u001b[0m\u001b[0m\n",
      "\u001b[1;31mFileNotFoundError\u001b[0m: [Errno 2] No such file or directory: 'chicken.txt'"
     ]
    }
   ],
   "source": [
    "\n",
    "with open('chicken.txt', 'r') as f:     # r: read\n",
    "    for line in f:\n",
    "        print(line)     # 모든 줄 출력\n"
   ]
  },
  {
   "cell_type": "markdown",
   "metadata": {},
   "source": [
    "**\\# strip**  \n",
    "print(“    abc   def     “.strip())  \n",
    "abc   def  \n"
   ]
  },
  {
   "cell_type": "code",
   "execution_count": 3,
   "metadata": {},
   "outputs": [
    {
     "ename": "FileNotFoundError",
     "evalue": "[Errno 2] No such file or directory: 'chicken.txt'",
     "output_type": "error",
     "traceback": [
      "\u001b[1;31m---------------------------------------------------------------------------\u001b[0m",
      "\u001b[1;31mFileNotFoundError\u001b[0m                         Traceback (most recent call last)",
      "\u001b[1;32m<ipython-input-3-7ed9bb06105e>\u001b[0m in \u001b[0;36m<module>\u001b[1;34m\u001b[0m\n\u001b[1;32m----> 1\u001b[1;33m \u001b[1;32mwith\u001b[0m \u001b[0mopen\u001b[0m\u001b[1;33m(\u001b[0m\u001b[1;34m'chicken.txt'\u001b[0m\u001b[1;33m,\u001b[0m \u001b[1;34m'r'\u001b[0m\u001b[1;33m)\u001b[0m \u001b[1;32mas\u001b[0m \u001b[0mf\u001b[0m\u001b[1;33m:\u001b[0m\u001b[1;33m\u001b[0m\u001b[1;33m\u001b[0m\u001b[0m\n\u001b[0m\u001b[0;32m      2\u001b[0m     \u001b[1;32mfor\u001b[0m \u001b[0mline\u001b[0m \u001b[1;32min\u001b[0m \u001b[0mf\u001b[0m\u001b[1;33m:\u001b[0m\u001b[1;33m\u001b[0m\u001b[1;33m\u001b[0m\u001b[0m\n\u001b[0;32m      3\u001b[0m         \u001b[0mprint\u001b[0m\u001b[1;33m(\u001b[0m\u001b[0mline\u001b[0m\u001b[1;33m.\u001b[0m\u001b[0mstrip\u001b[0m\u001b[1;33m(\u001b[0m\u001b[1;33m)\u001b[0m\u001b[1;33m)\u001b[0m    \u001b[1;31m# 앞뒤로 공백 없어짐\u001b[0m\u001b[1;33m\u001b[0m\u001b[1;33m\u001b[0m\u001b[0m\n",
      "\u001b[1;31mFileNotFoundError\u001b[0m: [Errno 2] No such file or directory: 'chicken.txt'"
     ]
    }
   ],
   "source": [
    "with open('chicken.txt', 'r') as f:    \n",
    "    for line in f:\n",
    "        print(line.strip())    # 앞뒤로 공백 없어짐\n"
   ]
  },
  {
   "cell_type": "markdown",
   "metadata": {},
   "source": [
    "**\\# split**  \n",
    "my_string = “1. 2. 3. 4. 5. 6”  \n",
    "print(my_string.split(“.”))    # .을 기준으로 나누어 리스트에 들어감  \n",
    "[‘1’, ‘ 2’, ‘ 3’, ‘ 4’, ‘ 5’, ‘ 6’]  \n",
    "my_string = “1. 2. 3. 4. 5. 6”  \n",
    "print(my_string.split(“ .”))       \n",
    "[‘1’, ‘2’, ‘3’, ‘4’, ‘5’, ‘6’]  \n",
    "\n",
    "full_name = “Kim, Yuna”  \n",
    "print(full_name.split(“, ”))  \n",
    "[‘Kim’, ‘Yuna’]  \n",
    "\n",
    "print(“   \\n\\n   2  \\t   3  \\n  5 7 11  \\n\\n”.split())  \n",
    "[‘2’, ‘3’, ‘5’, ‘7’, ‘11’]  \n",
    "\n",
    "numbers = “   \\n\\n   2  \\t   3  \\n  5 7 11  \\n\\n”.split()  \n",
    "print(int(numbers[0] + numbers[1])     # 정수형으로 쓰고 싶으면 형변환  \n",
    "23  \n"
   ]
  },
  {
   "cell_type": "markdown",
   "metadata": {},
   "source": [
    "**파일 쓰기**"
   ]
  },
  {
   "cell_type": "code",
   "execution_count": 9,
   "metadata": {},
   "outputs": [],
   "source": [
    "with open('new_file.txt', 'w') as f:     # w: 덮어쓰기, a: 추가\n",
    "    f.write(\"Hello world!\\n\")\n",
    "    f.write(\"My name is Codeit.\\n\")"
   ]
  },
  {
   "cell_type": "markdown",
   "metadata": {},
   "source": []
  }
 ],
 "metadata": {
  "kernelspec": {
   "display_name": "Python 3",
   "language": "python",
   "name": "python3"
  },
  "language_info": {
   "codemirror_mode": {
    "name": "ipython",
    "version": 3
   },
   "file_extension": ".py",
   "mimetype": "text/x-python",
   "name": "python",
   "nbconvert_exporter": "python",
   "pygments_lexer": "ipython3",
   "version": "3.8.5"
  }
 },
 "nbformat": 4,
 "nbformat_minor": 4
}
