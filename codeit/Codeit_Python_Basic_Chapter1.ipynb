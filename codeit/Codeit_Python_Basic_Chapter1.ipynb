{
 "cells": [
  {
   "cell_type": "markdown",
   "metadata": {},
   "source": [
    "## 파이썬 첫 걸음"
   ]
  },
  {
   "cell_type": "markdown",
   "metadata": {},
   "source": [
    "Python interpreter: python code를 번역   \n",
    "Pycharm: 올인원 솔루션, 통합 개발 환경(IDE)  \n",
    "코멘트(주석): 다른 개발자들과 소통"
   ]
  },
  {
   "cell_type": "markdown",
   "metadata": {},
   "source": [
    "**자료형(Data type)**\n",
    "\n",
    "정수(integer), 소수(floating point)  \n",
    "문자열(string)  \n",
    "불린(Boolean): True, False  \n"
   ]
  },
  {
   "cell_type": "markdown",
   "metadata": {},
   "source": [
    "**추상화(Abstraction)**\n",
    "\n",
    "변수(Variable): 값을 저장  \n",
    "x = 254  \n",
    "y = 317  \n",
    "print(x + y)  \n",
    "함수(Function): 명령을 저장  \n",
    "print(“Hello World!”)  \n"
   ]
  },
  {
   "cell_type": "markdown",
   "metadata": {},
   "source": [
    "**내장함수: 이미 만들어진 함수**\n",
    "\n",
    "def hello():     # 함수 정의  \n",
    "\tprint(“Hello!”)  \n",
    "\tprint(“Welcome to Codeit!”)  \n",
    "hello()         # 함수 호출  \n"
   ]
  },
  {
   "cell_type": "markdown",
   "metadata": {},
   "source": [
    "**파라미터: 함수에 넘겨 주는 값**\n",
    "\n",
    "def hello(name):        # name: 파라미터  \n",
    "\tprint(“Hello!”)  \n",
    "\tprint(name)  \n",
    "\tprint(“Welcome to Codeit!”)  \n",
    "hello(“Chris”)   \n",
    "  \n"
   ]
  },
  {
   "cell_type": "markdown",
   "metadata": {},
   "source": [
    "**여러 개의 파라미터**\n",
    "\n",
    "def print_sum(a, b):  \n",
    "\tprint(a + b)  \n",
    "print_sum(7, 3)  \n",
    "\n",
    "def print_sum(a, b, c):  \n",
    "\tprint(a + b + c)  \n",
    "print_sum(7, 3, 2)  \n"
   ]
  },
  {
   "cell_type": "markdown",
   "metadata": {},
   "source": [
    "**return문**\n",
    "\n",
    "def get_square(x):  \n",
    "\treturn x * x  \n",
    "print(get_square(3))  \n"
   ]
  },
  {
   "cell_type": "code",
   "execution_count": null,
   "metadata": {},
   "outputs": [],
   "source": []
  }
 ],
 "metadata": {
  "kernelspec": {
   "display_name": "Python 3",
   "language": "python",
   "name": "python3"
  },
  "language_info": {
   "codemirror_mode": {
    "name": "ipython",
    "version": 3
   },
   "file_extension": ".py",
   "mimetype": "text/x-python",
   "name": "python",
   "nbconvert_exporter": "python",
   "pygments_lexer": "ipython3",
   "version": "3.8.5"
  }
 },
 "nbformat": 4,
 "nbformat_minor": 4
}
