{
 "cells": [
  {
   "cell_type": "markdown",
   "metadata": {},
   "source": [
    "## 제어문"
   ]
  },
  {
   "cell_type": "markdown",
   "metadata": {},
   "source": [
    "**while 반복문**  \n",
    "while 조건 부분:  \n",
    "수행 부분  "
   ]
  },
  {
   "cell_type": "code",
   "execution_count": 4,
   "metadata": {},
   "outputs": [
    {
     "name": "stdout",
     "output_type": "stream",
     "text": [
      "나는 잘생겼다!\n",
      "나는 잘생겼다!\n",
      "나는 잘생겼다!\n"
     ]
    }
   ],
   "source": [
    "i = 1  \n",
    "while i <= 3:  \n",
    "    print(\"나는 잘생겼다!\")  \n",
    "    i += 1 "
   ]
  },
  {
   "cell_type": "markdown",
   "metadata": {},
   "source": [
    "**if문**   \n",
    "if 조건 부분:  \n",
    "\t수행 부분  \n"
   ]
  },
  {
   "cell_type": "code",
   "execution_count": 5,
   "metadata": {},
   "outputs": [
    {
     "name": "stdout",
     "output_type": "stream",
     "text": [
      "자켓을 입는다.\n"
     ]
    }
   ],
   "source": [
    "temp = 8\n",
    "if temp <= 10:\n",
    "    print(\"자켓을 입는다.\")\n",
    "else: \n",
    "    print(\"자켓을 입지 않는다.\")\n"
   ]
  },
  {
   "cell_type": "markdown",
   "metadata": {},
   "source": [
    "else if => elif"
   ]
  },
  {
   "cell_type": "markdown",
   "metadata": {},
   "source": [
    "**break문**: while문의 조건 부분과 상관없이 반복문에서 나오고 싶을 때"
   ]
  },
  {
   "cell_type": "code",
   "execution_count": 6,
   "metadata": {},
   "outputs": [
    {
     "name": "stdout",
     "output_type": "stream",
     "text": [
      "115\n"
     ]
    }
   ],
   "source": [
    "i = 100\n",
    "\n",
    "while True:\n",
    "    # i가 23의 배수면 반복문을 끝냄\n",
    "    if i % 23 == 0:\n",
    "        break\n",
    "    i = i + 1\n",
    "\n",
    "print(i)\n"
   ]
  },
  {
   "cell_type": "markdown",
   "metadata": {},
   "source": [
    "**continue문**: 현재 진행되고 있는 수행 부분을 중단하고 바로 조건 부분을 확인하고 싶을 때"
   ]
  },
  {
   "cell_type": "code",
   "execution_count": 7,
   "metadata": {},
   "outputs": [
    {
     "name": "stdout",
     "output_type": "stream",
     "text": [
      "2\n",
      "4\n",
      "6\n",
      "8\n",
      "10\n",
      "12\n",
      "14\n"
     ]
    }
   ],
   "source": [
    "i = 0\n",
    "\n",
    "while i < 15:\n",
    "    i = i + 1\n",
    "\n",
    "    # i가 홀수면 print(i) 안 하고 바로 조건 부분으로 돌아감\n",
    "    if i % 2 == 1:\n",
    "        continue\n",
    "    print(i)\n"
   ]
  },
  {
   "cell_type": "code",
   "execution_count": null,
   "metadata": {},
   "outputs": [],
   "source": []
  }
 ],
 "metadata": {
  "kernelspec": {
   "display_name": "Python 3",
   "language": "python",
   "name": "python3"
  },
  "language_info": {
   "codemirror_mode": {
    "name": "ipython",
    "version": 3
   },
   "file_extension": ".py",
   "mimetype": "text/x-python",
   "name": "python",
   "nbconvert_exporter": "python",
   "pygments_lexer": "ipython3",
   "version": "3.8.5"
  }
 },
 "nbformat": 4,
 "nbformat_minor": 4
}
