{
 "cells": [
  {
   "cell_type": "markdown",
   "metadata": {},
   "source": [
    "**추상화**\n",
    "\n",
    "x = x + 1  # = :지정 연산자(assignment operator)  \n",
    "파이썬에서 등호의 의미: 지정 연산자  \n"
   ]
  },
  {
   "cell_type": "markdown",
   "metadata": {},
   "source": [
    "**return문의 역할**: 값 돌려주기, 함수 즉시 종료하기\n",
    "def square(x):  \n",
    "\tprint(“함수 시작”)  \n",
    "\treturn x * x  \n",
    "\tprint(“함수 끝”)       # dead code(의미 없는 코드)  \n",
    "\n",
    "print(square(3))  \n",
    "함수 시작    \n",
    "9  \n",
    "  \n",
    "def print_square(x):  \n",
    "\tprint(x * x)  \n",
    "print(print_square(3))  \n",
    "9   \n",
    "None     # 함수에서 return문이 없으면 none  \n"
   ]
  },
  {
   "cell_type": "markdown",
   "metadata": {},
   "source": [
    "**옵셔널 파라미터**  \n",
    "def myself(name, age, nationality=\"한국\"):    # 꼭 마지막에!  \n",
    "    print(\"내 이름은 {}\".format(name))  \n",
    "    print(\"나이는 {}살\".format(age))  \n",
    "    print(\"국적은 {}\".format(nationality))  \n",
    "\n",
    "\n",
    "myself(\"코드잇\", 1, \"미국\")  # 옵셔널 파라미터를 제공하는 경우  \n",
    "print()  \n",
    "myself(\"코드잇\", 1)  \n",
    "\n",
    "syntactic sugar  \n",
    "+=, -=, *=, /=, %=  \n"
   ]
  },
  {
   "cell_type": "markdown",
   "metadata": {},
   "source": [
    "**scope(범위)**  \n",
    "x = 2   # 글로벌 변수  \n",
    "def my_function():   \n",
    "\tprint(x)  \n",
    "my_function()  \n",
    "print(x)  \n",
    "2  \n",
    "2  \n",
    " \n",
    "def square(3):     # 파라미터도 로컬 변수!  \n",
    "\treturn x * x  \n",
    "print(square(3))  \n",
    "\n",
    "로컬 변수: 변수를 정의한 함수내에서만 사용 가능  \n",
    "글로벌 변수: 모든 곳에서 사용 가능  \n",
    "함수에서 변수를 사용하면, 로컬 변수를 먼저 찾고 나서 글로벌 변수를 찾음  \n"
   ]
  },
  {
   "cell_type": "markdown",
   "metadata": {},
   "source": [
    "**상수**  \n",
    "변수를 대문자로 표시: 값을 바꾸지 않겠다는 의지  \n",
    "\n",
    "**스타일**  \n",
    "보기 좋은 코드: 좋은 스타일의 코드  \n",
    "PEP8(스타일 가이드)  \n"
   ]
  },
  {
   "cell_type": "code",
   "execution_count": null,
   "metadata": {},
   "outputs": [],
   "source": []
  }
 ],
 "metadata": {
  "kernelspec": {
   "display_name": "Python 3",
   "language": "python",
   "name": "python3"
  },
  "language_info": {
   "codemirror_mode": {
    "name": "ipython",
    "version": 3
   },
   "file_extension": ".py",
   "mimetype": "text/x-python",
   "name": "python",
   "nbconvert_exporter": "python",
   "pygments_lexer": "ipython3",
   "version": "3.8.5"
  }
 },
 "nbformat": 4,
 "nbformat_minor": 4
}
