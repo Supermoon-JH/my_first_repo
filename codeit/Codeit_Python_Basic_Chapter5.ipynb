{
 "cells": [
  {
   "cell_type": "markdown",
   "metadata": {},
   "source": [
    "## 데이터"
   ]
  },
  {
   "cell_type": "markdown",
   "metadata": {},
   "source": [
    "**리스트(list)**  \n",
    "numbers = [2, 3, 5, 7, 11, 13]  \n",
    "names = [“윤수”, “혜린”, “태호”]  \n"
   ]
  },
  {
   "cell_type": "markdown",
   "metadata": {},
   "source": [
    "**인덱싱(indexing)**  \n",
    "print(names[1])  \n",
    "혜린  \n",
    "print(numbers[1] + numbers[3])  \n",
    "10  \n",
    "print(numbers[-1])   # 범위를 벗어나면 오류  \n",
    "13  \n"
   ]
  },
  {
   "cell_type": "markdown",
   "metadata": {},
   "source": [
    "**리스트 슬라이싱(list slicing)**  \n",
    "print(numbers[0:4])  \n",
    "[2, 3, 5, 7, 11]  \n",
    "\n",
    "numbers[0] = numbers[0] + numbers[1]  \n",
    "print(numbers)  \n",
    "[5, 3, 5, 7, 11, 13]  \n",
    "  "
   ]
  },
  {
   "cell_type": "markdown",
   "metadata": {},
   "source": [
    "**리스트 함수**  \n",
    "numbers = []  \n",
    "print(len(numbers))   # 리스트의 길이  \n",
    "0  \n",
    "numbers.append(5)   # 리스트 추가  \n",
    "print(numbers)  \n",
    "[5] \n",
    "\n",
    "numbers = [2, 3, 5, 7, 11, 13, 17, 19]  \n",
    "del numbers[3]  \n",
    "print(numbers)  \n",
    "[2, 3, 5, 11, 13, 17, 19]  \n",
    "numbers.insert(4, 37)     # 4번 위치에 37 추가  \n",
    "print(numbers)  \n",
    "[2, 3, 5, 7, 37, 11, 13, 17, 19]  \n"
   ]
  },
  {
   "cell_type": "markdown",
   "metadata": {},
   "source": [
    "**리스트 정렬**  \n",
    "numbers = [19, 13, 2, 5, 3, 11, 7, 17]  \n",
    "new_list = sorted(numbers, reverse=True)     # 기존의 리스트는 그대로  \n",
    "print(new_list)           \n",
    "[19, 17, 13, 11, 7, 5, 3, 2]  \n",
    "numbers.sort()          # 아무것도 리턴하지 않고 기존 리스트를 정렬  \n",
    "print(numbers)  \n",
    "[2, 3, 5, 7, 11, 13, 17, 19]  \n"
   ]
  },
  {
   "cell_type": "markdown",
   "metadata": {},
   "source": [
    "**리스트에서 값의 존재 확인**  \n",
    "primes = [2, 3, 5, 7, 11, 13, 17, 19, 23]  \n",
    "print(7 in primes)  \n",
    "print(12 in primes)  \n",
    "\n",
    "True  \n",
    "False  \n",
    "\n"
   ]
  },
  {
   "cell_type": "markdown",
   "metadata": {},
   "source": [
    "**리스트 안의 리스트(Nexted list)**\n",
    "\n",
    "\\# 세 번의 시험을 보는 수업  \n",
    "grades = [[62, 75, 77], [78, 81, 86], [85, 91, 89]]\n",
    "\n",
    "\\# 첫 번째 학생의 성적   \n",
    "print(grades[0])  \n",
    "\n",
    "\\# 세 번째 학생의 성적  \n",
    "print(grades[2])  \n",
    "\n",
    "\\# 첫 번째 학생의 첫 번째 시험 성적  \n",
    "print(grades[0][0])  \n",
    "\n",
    "\\# 세 번째 학생의 두 번째 시험 성적  \n",
    "print(grades[2][1])  \n",
    "\n",
    "\\# 첫 번째 시험의 평균   \n",
    "print((grades[0][0] + grades[1][0] + grades[2][0]) / 3)  \n",
    "\n",
    "[62, 75, 77]  \n",
    "[85, 91, 89]\n",
    "62  \n",
    "91  \n",
    "75.0  \n",
    "\n"
   ]
  },
  {
   "cell_type": "markdown",
   "metadata": {},
   "source": [
    "sort 메소드  \n",
    "numbers = [5, 3, 7, 1]  \n",
    "numbers.sort()  \n",
    "print(numbers)  \n",
    "[1, 3, 5, 7]  \n",
    "\n",
    "reverse 메소드    # 원소들을 뒤집어진 순서로 배치합니다.  \n",
    "numbers = [5, 3, 7, 1]  \n",
    "numbers.reverse()  \n",
    "print(numbers)  \n",
    "[1, 7, 3, 5]     \n",
    "\n",
    "index 메소드  \n",
    "members = [\"영훈\", \"윤수\", \"태호\", \"혜린\"]   \n",
    "print(members.index(\"윤수\"))  \n",
    "print(members.index(\"태호\"))  \n",
    "1  \n",
    "2  \n",
    "\n",
    "remove 메소드  \n",
    "fruits = [\"딸기\", \"당근\", \"파인애플\", \"수박\", \"참외\", \"메론\"]  \n",
    "fruits.remove(\"파인애플\")  \n",
    "print(fruits)    \n",
    "['딸기', '당근', '수박', '참외', '메론']  \n",
    "\n"
   ]
  },
  {
   "cell_type": "markdown",
   "metadata": {},
   "source": [
    "**For 반복문**  \n",
    "my_list = [2, 3, 5, 7, 11]  \n",
    "for number in my_list:  \n",
    "\tprint(number)  \n",
    "2  \n",
    "3  \n",
    "5  \n",
    "7  \n",
    "11  \n",
    "\n",
    "**range 함수**  \n",
    "range(3, 11)   # 3 ~ 10   \n",
    "range(10)    # 0 ~ 9    \n",
    "range(3, 17, 3)   # 3 ~ 16(간격이 3)    \n",
    "장점: 간편함, 깔끔함, 메모리 효율성    \n"
   ]
  },
  {
   "cell_type": "code",
   "execution_count": null,
   "metadata": {},
   "outputs": [],
   "source": []
  }
 ],
 "metadata": {
  "kernelspec": {
   "display_name": "Python 3",
   "language": "python",
   "name": "python3"
  },
  "language_info": {
   "codemirror_mode": {
    "name": "ipython",
    "version": 3
   },
   "file_extension": ".py",
   "mimetype": "text/x-python",
   "name": "python",
   "nbconvert_exporter": "python",
   "pygments_lexer": "ipython3",
   "version": "3.8.5"
  }
 },
 "nbformat": 4,
 "nbformat_minor": 4
}
