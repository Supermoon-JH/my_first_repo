{
 "cells": [
  {
   "cell_type": "markdown",
   "metadata": {},
   "source": [
    "## Q1"
   ]
  },
  {
   "cell_type": "code",
   "execution_count": 2,
   "metadata": {},
   "outputs": [
    {
     "name": "stdout",
     "output_type": "stream",
     "text": [
      "최대공약수 =  6\n"
     ]
    }
   ],
   "source": [
    "def gcd(x, y):\n",
    "    while True:\n",
    "        if x == y :\n",
    "            return x\n",
    "        elif x > y :\n",
    "            x = x - y\n",
    "        else :\n",
    "            y = y - x\n",
    "\n",
    "num1 = 30\n",
    "num2 = 18\n",
    "\n",
    "print(\"최대공약수 = \", gcd(num1, num2))"
   ]
  },
  {
   "cell_type": "markdown",
   "metadata": {},
   "source": [
    "## Q2"
   ]
  },
  {
   "cell_type": "code",
   "execution_count": 3,
   "metadata": {},
   "outputs": [
    {
     "name": "stdout",
     "output_type": "stream",
     "text": [
      "40분 주차요금:  3000\n",
      "50분 주차요금:  4000\n"
     ]
    }
   ],
   "source": [
    "def fee(time):\n",
    "    if time <= 15 :\n",
    "        money = 0\n",
    "    elif 15 < time <= 30 :\n",
    "        money = 3000\n",
    "    else :\n",
    "        money = 3000 + 1000 * ((time - 30) // 15) \n",
    "    return money\n",
    "\n",
    "print(\"40분 주차요금: \", fee(40))\n",
    "print(\"50분 주차요금: \", fee(50))"
   ]
  },
  {
   "cell_type": "markdown",
   "metadata": {},
   "source": [
    "## Q3"
   ]
  },
  {
   "cell_type": "code",
   "execution_count": 4,
   "metadata": {},
   "outputs": [
    {
     "name": "stdout",
     "output_type": "stream",
     "text": [
      "각 자리수의 합: 10\n"
     ]
    }
   ],
   "source": [
    "def sum_digit(num):\n",
    "    result = 0\n",
    "    for i in str(num):\n",
    "        result += int(i)\n",
    "    return result\n",
    "\n",
    "print(\"각 자리수의 합: %d\" % sum_digit(1234))"
   ]
  },
  {
   "cell_type": "markdown",
   "metadata": {},
   "source": [
    "## Q4"
   ]
  },
  {
   "cell_type": "code",
   "execution_count": 6,
   "metadata": {},
   "outputs": [
    {
     "name": "stdout",
     "output_type": "stream",
     "text": [
      "모음 수 = 11, 숫자 수  = 4\n"
     ]
    }
   ],
   "source": [
    "def parse_file(path):\n",
    "    vowelList = ['a', 'e', 'i', 'o', 'u']\n",
    "    with open(path) as infile:\n",
    "        vowel = 0\n",
    "        num = 0\n",
    "        for line in infile.readlines():\n",
    "            for char in line:\n",
    "                char = char.lower()\n",
    "                for v in vowelList:\n",
    "                    if v == char:\n",
    "                        vowel += 1\n",
    "                if char.isnumeric():\n",
    "                    num += 1\n",
    "        return vowel, num\n",
    "\n",
    "vowel, num = parse_file(\"hello.txt\")\n",
    "print(\"모음 수 = %d, 숫자 수  = %d\" % (vowel, num))\n"
   ]
  },
  {
   "cell_type": "markdown",
   "metadata": {},
   "source": [
    "## Q5"
   ]
  },
  {
   "cell_type": "code",
   "execution_count": 7,
   "metadata": {},
   "outputs": [
    {
     "name": "stdout",
     "output_type": "stream",
     "text": [
      "box의 부피: 125000\n"
     ]
    }
   ],
   "source": [
    "class Box:\n",
    "    def __init__(self, width, depth, height):\n",
    "        self.width = width\n",
    "        self.depth = depth\n",
    "        self.height = height\n",
    "    def set_width(self, width):\n",
    "        self.width = width\n",
    "    def set_depth(self, depth):\n",
    "        self.depth = depth\n",
    "    def set_height(self, height):\n",
    "        self.height = height\n",
    "    def cal_volume(self):\n",
    "        return self.width * self.depth * self.height\n",
    "\n",
    "box = Box(50, 50, 50)\n",
    "\n",
    "print(\"box의 부피: %d\" % box.cal_volume())\n"
   ]
  },
  {
   "cell_type": "code",
   "execution_count": null,
   "metadata": {},
   "outputs": [],
   "source": []
  }
 ],
 "metadata": {
  "kernelspec": {
   "display_name": "Python 3",
   "language": "python",
   "name": "python3"
  },
  "language_info": {
   "codemirror_mode": {
    "name": "ipython",
    "version": 3
   },
   "file_extension": ".py",
   "mimetype": "text/x-python",
   "name": "python",
   "nbconvert_exporter": "python",
   "pygments_lexer": "ipython3",
   "version": "3.8.5"
  }
 },
 "nbformat": 4,
 "nbformat_minor": 4
}
